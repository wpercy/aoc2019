{
 "cells": [
  {
   "cell_type": "code",
   "execution_count": null,
   "metadata": {},
   "outputs": [],
   "source": [
    "# get data\n",
    "r1 = get_data_as_list(1,headers)\n",
    "d1d = map(int,r1.text.split(\"\\n\")[:-1])\n",
    "\n",
    "# fun\n",
    "import numpy as np\n",
    "total_fuel = np.sum([calc_fuel_2(mass,0) for mass in d1d])\n",
    "total_fuel\n",
    "\n",
    "#1:\n",
    "def calc_fuel(mass):\n",
    "    \n",
    "    fuel_mass = np.floor(mass/3) - 2\n",
    "    \n",
    "    fuel_fuel = 0\n",
    "    \n",
    "    cf = fuel_mass\n",
    "    while np.floor(cf/3) - 2 >= 0:\n",
    "        s = np.floor(cf/3) - 2\n",
    "        fuel_fuel += s\n",
    "        cf = s\n",
    "    return fuel_fuel + fuel_mass\n",
    "\n",
    "def calc_fuel_2(mass,fuel):\n",
    "    calc_fuel = np.floor(mass/3) - 2\n",
    "    fuel += calc_fuel\n",
    "    while np.floor(calc_fuel/3) - 2 >= 0: \n",
    "        return calc_fuel_2(calc_fuel,fuel)\n",
    "    return fuel"
   ]
  }
 ],
 "metadata": {
  "kernelspec": {
   "display_name": "Python 2",
   "language": "python",
   "name": "python2"
  },
  "language_info": {
   "codemirror_mode": {
    "name": "ipython",
    "version": 2
   },
   "file_extension": ".py",
   "mimetype": "text/x-python",
   "name": "python",
   "nbconvert_exporter": "python",
   "pygments_lexer": "ipython2",
   "version": "2.7.17"
  }
 },
 "nbformat": 4,
 "nbformat_minor": 2
}
